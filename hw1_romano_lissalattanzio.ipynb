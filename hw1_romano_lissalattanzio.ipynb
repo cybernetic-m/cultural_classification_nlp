{
  "cells": [
    {
      "cell_type": "markdown",
      "metadata": {
        "id": "LmNDKCY4Dv_Z"
      },
      "source": [
        "# IMPORT"
      ]
    },
    {
      "cell_type": "code",
      "execution_count": null,
      "metadata": {
        "colab": {
          "base_uri": "https://localhost:8080/"
        },
        "id": "C13LO1P2Dy4a",
        "outputId": "61847a89-bada-4491-8026-dcc682cca414"
      },
      "outputs": [
        {
          "output_type": "stream",
          "name": "stdout",
          "text": [
            "Cloning into 'cultural_classification_nlp'...\n",
            "remote: Enumerating objects: 627, done.\u001b[K\n",
            "remote: Counting objects: 100% (159/159), done.\u001b[K\n",
            "remote: Compressing objects: 100% (118/118), done.\u001b[K\n",
            "remote: Total 627 (delta 77), reused 107 (delta 39), pack-reused 468 (from 1)\u001b[K\n",
            "Receiving objects: 100% (627/627), 10.45 MiB | 3.19 MiB/s, done.\n",
            "Resolving deltas: 100% (310/310), done.\n",
            "  Preparing metadata (setup.py) ... \u001b[?25l\u001b[?25hdone\n",
            "\u001b[2K   \u001b[90m━━━━━━━━━━━━━━━━━━━━━━━━━━━━━━━━━━━━━━━━\u001b[0m \u001b[32m491.4/491.4 kB\u001b[0m \u001b[31m16.1 MB/s\u001b[0m eta \u001b[36m0:00:00\u001b[0m\n",
            "\u001b[2K   \u001b[90m━━━━━━━━━━━━━━━━━━━━━━━━━━━━━━━━━━━━━━━━\u001b[0m \u001b[32m116.3/116.3 kB\u001b[0m \u001b[31m6.3 MB/s\u001b[0m eta \u001b[36m0:00:00\u001b[0m\n",
            "\u001b[2K   \u001b[90m━━━━━━━━━━━━━━━━━━━━━━━━━━━━━━━━━━━━━━━━\u001b[0m \u001b[32m193.6/193.6 kB\u001b[0m \u001b[31m10.8 MB/s\u001b[0m eta \u001b[36m0:00:00\u001b[0m\n",
            "\u001b[2K   \u001b[90m━━━━━━━━━━━━━━━━━━━━━━━━━━━━━━━━━━━━━━━━\u001b[0m \u001b[32m143.5/143.5 kB\u001b[0m \u001b[31m7.7 MB/s\u001b[0m eta \u001b[36m0:00:00\u001b[0m\n",
            "\u001b[2K   \u001b[90m━━━━━━━━━━━━━━━━━━━━━━━━━━━━━━━━━━━━━━━━\u001b[0m \u001b[32m194.8/194.8 kB\u001b[0m \u001b[31m10.2 MB/s\u001b[0m eta \u001b[36m0:00:00\u001b[0m\n",
            "\u001b[?25h  Building wheel for wikipedia (setup.py) ... \u001b[?25l\u001b[?25hdone\n"
          ]
        }
      ],
      "source": [
        "import shutil\n",
        "shutil.rmtree('cultural_classification_nlp', ignore_errors=True)\n",
        "\n",
        "!git clone \"https://github.com/cybernetic-m/cultural_classification_nlp.git\"\n",
        "!pip install --quiet wikipedia wikidata datasets 2> /dev/null    # the 2> /dev/null redirects standard error to the null avoiding the print of dependencies conflicts\n",
        "\n",
        "# Import from our GitHub Repository of needed functions and classes for the LM-based evaluation\n",
        "from cultural_classification_nlp.models.LMClassifier import LMClassifier\n",
        "from cultural_classification_nlp.testing.test import eval_lm\n",
        "from cultural_classification_nlp.graph.src.test import test, eval_non_lm\n",
        "\n",
        "# NN import\n",
        "import torch\n",
        "import pandas as pd\n",
        "from huggingface_hub import hf_hub_download\n",
        "from transformers import (\n",
        "    AutoModel,\n",
        "    AutoTokenizer,\n",
        "    set_seed,\n",
        ")\n",
        "\n",
        "set_seed(10) # Set the seed for reproducibility\n",
        "\n",
        "device ='cuda' if torch.cuda.is_available() else 'cpu'\n",
        "print(f'Using {device} device')"
      ]
    },
    {
      "cell_type": "markdown",
      "metadata": {
        "id": "JQve0ZDDHmhh"
      },
      "source": [
        "# Evaluation non LM-based model"
      ]
    },
    {
      "cell_type": "markdown",
      "metadata": {
        "id": "fI6aV4pv3vWi"
      },
      "source": [
        "**Load of the dataset**\n",
        "\n",
        "**⚠️TAs Instructions⚠️**:\n",
        "\n",
        "1. Upload the test dataset as a csv file into the \"*Files*\" space of Colab\n",
        "\n",
        "2. Write the name of the dataset into the variable *dataset_name*"
      ]
    },
    {
      "cell_type": "code",
      "execution_count": null,
      "metadata": {
        "id": "LP70YDu6D7NT"
      },
      "outputs": [],
      "source": [
        "dataset_name = 'test_unlabeled.csv'\n",
        "dataset_path = './' + dataset_name"
      ]
    },
    {
      "cell_type": "markdown",
      "metadata": {
        "id": "drXlRU8ID_sk"
      },
      "source": [
        "The eval_non_lm function returns the final annotated dataframe with columns qid and label (predicted). This function will receive the the test dataframe that will be processed in order to extract the properties for each item and the visualization of the wikipedia pages associated for 100 languages. It also performs the encoding of the category and subcategory.\n",
        "After the pre processing the function adds the informations to a graph that is pre-loaded with the training data. The test data will be added to the graph with label -1 (to be predicted), then the label propagation algorithm will be applied on the graph with knn and 10 neighbors.\n",
        "The function will also save the dataframe returned as a csv file in the notebook files."
      ]
    },
    {
      "cell_type": "code",
      "execution_count": null,
      "metadata": {
        "id": "kjBbXwr2D-eQ"
      },
      "outputs": [],
      "source": [
        " # this does everything, is sufficient to run the test set and get the final df\n",
        " # the print_statistics will print the confusion matrix and classification report if you submit a df with labels\n",
        "predictions, df_ex = eval_non_lm(dataset_path, path = './cultural_classification_nlp/graph/models')"
      ]
    },
    {
      "cell_type": "markdown",
      "metadata": {
        "id": "neW5tylYHt0H"
      },
      "source": [
        "# Evaluation LM-based model"
      ]
    },
    {
      "cell_type": "markdown",
      "metadata": {
        "id": "c9p2Eak8Uhov"
      },
      "source": [
        "**Load of the dataset**\n",
        "\n",
        "Instructions:\n",
        "1. Upload the test dataset as a csv file into the \"*Files*\" space of Colab\n",
        "\n",
        "2. Write the name of the dataset into the variable *dataset_name*\n",
        "\n"
      ]
    },
    {
      "cell_type": "code",
      "execution_count": null,
      "metadata": {
        "id": "jqJ3c8zNyIsA"
      },
      "outputs": [],
      "source": [
        "dataset_name = 'test_unlabeled.csv'\n",
        "batch_size = 128\n",
        "max_length = 64\n",
        "dataset_path = './' + dataset_name"
      ]
    },
    {
      "cell_type": "markdown",
      "metadata": {
        "id": "RE5oA5DUUfVW"
      },
      "source": [
        "**Definition of the model**\n"
      ]
    },
    {
      "cell_type": "code",
      "execution_count": null,
      "metadata": {
        "colab": {
          "base_uri": "https://localhost:8080/"
        },
        "id": "LpmZQGGdH2sv",
        "outputId": "09b49855-00ce-49ac-a0ef-3696961e3a41"
      },
      "outputs": [
        {
          "output_type": "stream",
          "name": "stdout",
          "text": [
            "Encoder type:\n",
            "\n",
            " DebertaV2Model(\n",
            "  (embeddings): DebertaV2Embeddings(\n",
            "    (word_embeddings): Embedding(128100, 768, padding_idx=0)\n",
            "    (LayerNorm): LayerNorm((768,), eps=1e-07, elementwise_affine=True)\n",
            "    (dropout): Dropout(p=0.1, inplace=False)\n",
            "  )\n",
            "  (encoder): DebertaV2Encoder(\n",
            "    (layer): ModuleList(\n",
            "      (0-11): 12 x DebertaV2Layer(\n",
            "        (attention): DebertaV2Attention(\n",
            "          (self): DisentangledSelfAttention(\n",
            "            (query_proj): Linear(in_features=768, out_features=768, bias=True)\n",
            "            (key_proj): Linear(in_features=768, out_features=768, bias=True)\n",
            "            (value_proj): Linear(in_features=768, out_features=768, bias=True)\n",
            "            (pos_dropout): Dropout(p=0.1, inplace=False)\n",
            "            (dropout): Dropout(p=0.1, inplace=False)\n",
            "          )\n",
            "          (output): DebertaV2SelfOutput(\n",
            "            (dense): Linear(in_features=768, out_features=768, bias=True)\n",
            "            (LayerNorm): LayerNorm((768,), eps=1e-07, elementwise_affine=True)\n",
            "            (dropout): Dropout(p=0.1, inplace=False)\n",
            "          )\n",
            "        )\n",
            "        (intermediate): DebertaV2Intermediate(\n",
            "          (dense): Linear(in_features=768, out_features=3072, bias=True)\n",
            "          (intermediate_act_fn): GELUActivation()\n",
            "        )\n",
            "        (output): DebertaV2Output(\n",
            "          (dense): Linear(in_features=3072, out_features=768, bias=True)\n",
            "          (LayerNorm): LayerNorm((768,), eps=1e-07, elementwise_affine=True)\n",
            "          (dropout): Dropout(p=0.1, inplace=False)\n",
            "        )\n",
            "      )\n",
            "    )\n",
            "    (rel_embeddings): Embedding(512, 768)\n",
            "    (LayerNorm): LayerNorm((768,), eps=1e-07, elementwise_affine=True)\n",
            "  )\n",
            ")\n",
            "\n",
            "Classifier:\n",
            "\n",
            " Sequential(\n",
            "  (0): Linear(in_features=768, out_features=128, bias=True)\n",
            "  (1): ReLU()\n",
            "  (2): Linear(in_features=128, out_features=3, bias=True)\n",
            ")\n",
            "\n",
            "Pooling type:\n",
            "\n",
            " attention\n"
          ]
        }
      ],
      "source": [
        "# Definition of the encoder\n",
        "encoder = AutoModel.from_pretrained('microsoft/deberta-v3-base')\n",
        "tokenizer = AutoTokenizer.from_pretrained('microsoft/deberta-v3-base')\n",
        "\n",
        "# Definition of the classifier\n",
        "model = LMClassifier(\n",
        "    encoder=encoder,\n",
        "    num_labels=3,\n",
        "    mlp_list=[128],\n",
        "    classifier_type='mlp',\n",
        "    pooling= 'attention'\n",
        ").to(device)\n",
        "\n",
        "model_path = hf_hub_download(repo_id = 'cybernetic-m/deBERTa_cultural_classifier', filename = 'model.pt')"
      ]
    },
    {
      "cell_type": "code",
      "execution_count": null,
      "metadata": {
        "colab": {
          "base_uri": "https://localhost:8080/",
          "height": 1000,
          "referenced_widgets": [
            "01950f3f28df4c39a54921c95ad46b42",
            "f526a376d10d4490b6e99e1ecd68f08d",
            "b70cc5bf9b6541f5990f3161b2443dd5",
            "37cc8bc17ca54fc3b36bb3c7c10452c3",
            "3e03aea5affa4b42bd467de5170d7598",
            "36cc9b64940b4905b626cff72e4e3913",
            "5a6c30837f7645afa6234033181a4716",
            "417c63541583431fa22a6ddc691c12c5",
            "91daef26a815435d97431cfd5b8f839f",
            "bfbe27dc7e254f9dbdab94491e8c29ce",
            "81ba6786cb3f4bdd9349ece7b5b3b09c"
          ]
        },
        "id": "Q8jgKRjRQ3eP",
        "outputId": "b245408d-6246-4d01-ade6-05eb363e6ef5"
      },
      "outputs": [
        {
          "output_type": "display_data",
          "data": {
            "text/plain": [
              "Adding Wikipedia data...:   0%|          | 0/300 [00:00<?, ?it/s]"
            ],
            "application/vnd.jupyter.widget-view+json": {
              "version_major": 2,
              "version_minor": 0,
              "model_id": "01950f3f28df4c39a54921c95ad46b42"
            }
          },
          "metadata": {}
        },
        {
          "output_type": "stream",
          "name": "stderr",
          "text": [
            "/usr/local/lib/python3.11/dist-packages/wikipedia/wikipedia.py:389: GuessedAtParserWarning: No parser was explicitly specified, so I'm using the best available HTML parser for this system (\"lxml\"). This usually isn't a problem, but if you run this code on another system, or in a different virtual environment, it may use a different parser and behave differently.\n",
            "\n",
            "The code that caused this warning is on line 389 of the file /usr/local/lib/python3.11/dist-packages/wikipedia/wikipedia.py. To get rid of this warning, pass the additional argument 'features=\"lxml\"' to the BeautifulSoup constructor.\n",
            "\n",
            "  lis = BeautifulSoup(html).find_all('li')\n"
          ]
        },
        {
          "output_type": "stream",
          "name": "stdout",
          "text": [
            "\n",
            "DisambiguationError for 'imam': options are ['Mother', 'Mama-san', 'uncle']...\n",
            "\n",
            "No page found for 'empiricism'\n",
            "\n",
            "DisambiguationError for 'Alnus': options are ['Alto', 'Altus (voice type)', 'Altus, Arkansas']...\n",
            "\n",
            "No page found for 'David Ginola'\n",
            "\n",
            "No page found for 'beIN SPORTS'\n",
            "\n",
            "DisambiguationError for 'toast': options are ['Töss', 'Winterthur Töss railway station', 'Töss Monastery']...\n",
            "\n",
            "DisambiguationError for 'escalator': options are ['Cost escalation', 'Conflict escalation', 'Escalation hypothesis']...\n",
            "\n",
            "No page found for 'bitter lemon'\n",
            "\n",
            "No page found for 'singer-songwriter'\n",
            "\n",
            "DisambiguationError for 'Open Season 2': options are ['Open season (hunting)', 'Annual enrollment', 'Open Season (1974 film)']...\n",
            "\n",
            "No page found for '740 Park Avenue'\n",
            "\n",
            "DisambiguationError for 'nori': options are ['Noricum', 'Noric Alps', 'Noric language']...\n",
            "\n",
            "No page found for 'diplomatician'\n",
            "\n",
            "No page found for 'singer'\n",
            "\n",
            "No page found for 'Studio Ghibli'\n",
            "\n",
            "DisambiguationError for 'Crackle': options are ['Cradle (bed)', 'Bassinet', 'Cradle (circus act)']...\n",
            "\n",
            "DisambiguationError for 'Sus': options are ['Us (pronoun)', 'US', 'Us (Brother Ali album)']...\n",
            "\n",
            "No page found for 'Vauxhall'\n",
            "\n",
            "DisambiguationError for 'ball': options are ['Banknote', 'Bill (law)', 'Invoice']...\n",
            "[Index 99] Error: cannot unpack non-iterable float object\n",
            "\n",
            "No page found for 'Michael Haneke'\n",
            "\n",
            "No page found for 'French Emigration'\n",
            "\n",
            "DisambiguationError for 'outlier': options are ['Outline (list)', 'Code folding', 'Outline drawing']...\n",
            "\n",
            "DisambiguationError for 'consecration': options are ['Nature conservation', 'Wetland conservation', 'Conservation biology']...\n",
            "\n",
            "DisambiguationError for 'stele': options are ['Steele, Alabama', 'Steele, Arkansas', 'Steele, Kentucky']...\n",
            "\n",
            "No page found for 'Posca'\n",
            "\n",
            "No page found for 'Robin Hood'\n",
            "\n",
            "No page found for 'record producer'\n",
            "\n",
            "DisambiguationError for 'BLUF': options are ['Bluff, Queensland', 'The Bluff, Queensland (Ipswich)', 'The Bluff, Queensland (Toowoomba Region)']...\n",
            "\n",
            "DisambiguationError for 'tapu': options are ['Tap (film)', 'Taps (film)', 'Taps (2006 film)']...\n",
            "\n",
            "No page found for 'boy player'\n",
            "\n",
            "No page found for 'Douglas Adams'\n",
            "\n",
            "No page found for 'Rodrigo y Gabriela'\n",
            "\n",
            "No page found for 'Max Reinhardt'\n",
            "\n",
            "DisambiguationError for 'Mano': options are ['Mani (name)', 'Mani (prophet)', 'Mani (musician)']...\n",
            "\n",
            "DisambiguationError for 'flashing': options are ['Firmware §\\xa0Flashing', 'BIOS flashing', 'Flashing (cinematography)']...\n",
            "\n",
            "DisambiguationError for 'TEC': options are ['Edmund', 'Edward', 'Thaddeus']...\n",
            "\n",
            "No page found for 'antipope'\n",
            "\n",
            "DisambiguationError for 'Hewitt': options are ['Hewitt (hill)', 'Hewitt, Minnesota', 'Hewitt, Texas']...\n",
            "\n",
            "DisambiguationError for 'ritual': options are ['Virtual (horse)', 'Virtual channel', 'Virtual function']...\n",
            "\n",
            "DisambiguationError for 'provincial city': options are ['Provincial city (Taiwan)', 'Provincial city (Vietnam)', 'Prefecture-level city']...\n",
            "\n",
            "DisambiguationError for 'Vahana': options are ['Vahana', 'volkswagen', 'Vahan, Armenia']...\n",
            "\n",
            "No page found for 'menhir'\n",
            "\n",
            "No page found for 'smoking ban'\n",
            "\n",
            "No page found for 'Bob Dylan'\n",
            "\n",
            "No page found for 'doo-wop'\n",
            "\n",
            "No page found for 'Ed Arno'\n",
            "\n",
            "No page found for 'Orthodox Reformed Chorch'\n",
            "\n",
            "No page found for 'Cartoon Saloon'\n",
            "\n",
            "No page found for 'Hanbok'\n",
            "\n",
            "No page found for 'independent politician'\n",
            "\n",
            "DisambiguationError for 'baião': options are ['Baião (music)', 'Baião, Portugal', 'Baião, Pará']...\n",
            "No save path provided. The dataframe will not be saved.\n"
          ]
        },
        {
          "output_type": "stream",
          "name": "stderr",
          "text": []
        }
      ],
      "source": [
        "test_metrics_dict = {}\n",
        "loss_fn = torch.nn.CrossEntropyLoss()\n",
        "\n",
        "eval_lm (\n",
        "    model=model,\n",
        "    model_path=model_path,\n",
        "    dataset_csv = dataset_path,\n",
        "    tokenizer=tokenizer,\n",
        "    batch_size=batch_size,\n",
        "    max_length=max_length,\n",
        "    test_metrics_dict=test_metrics_dict,\n",
        "    loss_fn=loss_fn,\n",
        "    device=device\n",
        ")"
      ]
    }
  ],
  "metadata": {
    "colab": {
      "provenance": []
    },
    "kernelspec": {
      "display_name": "Python 3",
      "name": "python3"
    },
    "language_info": {
      "name": "python"
    },
    "widgets": {
      "application/vnd.jupyter.widget-state+json": {
        "01950f3f28df4c39a54921c95ad46b42": {
          "model_module": "@jupyter-widgets/controls",
          "model_name": "HBoxModel",
          "model_module_version": "1.5.0",
          "state": {
            "_dom_classes": [],
            "_model_module": "@jupyter-widgets/controls",
            "_model_module_version": "1.5.0",
            "_model_name": "HBoxModel",
            "_view_count": null,
            "_view_module": "@jupyter-widgets/controls",
            "_view_module_version": "1.5.0",
            "_view_name": "HBoxView",
            "box_style": "",
            "children": [
              "IPY_MODEL_f526a376d10d4490b6e99e1ecd68f08d",
              "IPY_MODEL_b70cc5bf9b6541f5990f3161b2443dd5",
              "IPY_MODEL_37cc8bc17ca54fc3b36bb3c7c10452c3"
            ],
            "layout": "IPY_MODEL_3e03aea5affa4b42bd467de5170d7598"
          }
        },
        "f526a376d10d4490b6e99e1ecd68f08d": {
          "model_module": "@jupyter-widgets/controls",
          "model_name": "HTMLModel",
          "model_module_version": "1.5.0",
          "state": {
            "_dom_classes": [],
            "_model_module": "@jupyter-widgets/controls",
            "_model_module_version": "1.5.0",
            "_model_name": "HTMLModel",
            "_view_count": null,
            "_view_module": "@jupyter-widgets/controls",
            "_view_module_version": "1.5.0",
            "_view_name": "HTMLView",
            "description": "",
            "description_tooltip": null,
            "layout": "IPY_MODEL_36cc9b64940b4905b626cff72e4e3913",
            "placeholder": "​",
            "style": "IPY_MODEL_5a6c30837f7645afa6234033181a4716",
            "value": "Adding Wikipedia data...: 100%"
          }
        },
        "b70cc5bf9b6541f5990f3161b2443dd5": {
          "model_module": "@jupyter-widgets/controls",
          "model_name": "FloatProgressModel",
          "model_module_version": "1.5.0",
          "state": {
            "_dom_classes": [],
            "_model_module": "@jupyter-widgets/controls",
            "_model_module_version": "1.5.0",
            "_model_name": "FloatProgressModel",
            "_view_count": null,
            "_view_module": "@jupyter-widgets/controls",
            "_view_module_version": "1.5.0",
            "_view_name": "ProgressView",
            "bar_style": "success",
            "description": "",
            "description_tooltip": null,
            "layout": "IPY_MODEL_417c63541583431fa22a6ddc691c12c5",
            "max": 300,
            "min": 0,
            "orientation": "horizontal",
            "style": "IPY_MODEL_91daef26a815435d97431cfd5b8f839f",
            "value": 300
          }
        },
        "37cc8bc17ca54fc3b36bb3c7c10452c3": {
          "model_module": "@jupyter-widgets/controls",
          "model_name": "HTMLModel",
          "model_module_version": "1.5.0",
          "state": {
            "_dom_classes": [],
            "_model_module": "@jupyter-widgets/controls",
            "_model_module_version": "1.5.0",
            "_model_name": "HTMLModel",
            "_view_count": null,
            "_view_module": "@jupyter-widgets/controls",
            "_view_module_version": "1.5.0",
            "_view_name": "HTMLView",
            "description": "",
            "description_tooltip": null,
            "layout": "IPY_MODEL_bfbe27dc7e254f9dbdab94491e8c29ce",
            "placeholder": "​",
            "style": "IPY_MODEL_81ba6786cb3f4bdd9349ece7b5b3b09c",
            "value": " 300/300 [00:48&lt;00:00,  6.04it/s]"
          }
        },
        "3e03aea5affa4b42bd467de5170d7598": {
          "model_module": "@jupyter-widgets/base",
          "model_name": "LayoutModel",
          "model_module_version": "1.2.0",
          "state": {
            "_model_module": "@jupyter-widgets/base",
            "_model_module_version": "1.2.0",
            "_model_name": "LayoutModel",
            "_view_count": null,
            "_view_module": "@jupyter-widgets/base",
            "_view_module_version": "1.2.0",
            "_view_name": "LayoutView",
            "align_content": null,
            "align_items": null,
            "align_self": null,
            "border": null,
            "bottom": null,
            "display": null,
            "flex": null,
            "flex_flow": null,
            "grid_area": null,
            "grid_auto_columns": null,
            "grid_auto_flow": null,
            "grid_auto_rows": null,
            "grid_column": null,
            "grid_gap": null,
            "grid_row": null,
            "grid_template_areas": null,
            "grid_template_columns": null,
            "grid_template_rows": null,
            "height": null,
            "justify_content": null,
            "justify_items": null,
            "left": null,
            "margin": null,
            "max_height": null,
            "max_width": null,
            "min_height": null,
            "min_width": null,
            "object_fit": null,
            "object_position": null,
            "order": null,
            "overflow": null,
            "overflow_x": null,
            "overflow_y": null,
            "padding": null,
            "right": null,
            "top": null,
            "visibility": null,
            "width": null
          }
        },
        "36cc9b64940b4905b626cff72e4e3913": {
          "model_module": "@jupyter-widgets/base",
          "model_name": "LayoutModel",
          "model_module_version": "1.2.0",
          "state": {
            "_model_module": "@jupyter-widgets/base",
            "_model_module_version": "1.2.0",
            "_model_name": "LayoutModel",
            "_view_count": null,
            "_view_module": "@jupyter-widgets/base",
            "_view_module_version": "1.2.0",
            "_view_name": "LayoutView",
            "align_content": null,
            "align_items": null,
            "align_self": null,
            "border": null,
            "bottom": null,
            "display": null,
            "flex": null,
            "flex_flow": null,
            "grid_area": null,
            "grid_auto_columns": null,
            "grid_auto_flow": null,
            "grid_auto_rows": null,
            "grid_column": null,
            "grid_gap": null,
            "grid_row": null,
            "grid_template_areas": null,
            "grid_template_columns": null,
            "grid_template_rows": null,
            "height": null,
            "justify_content": null,
            "justify_items": null,
            "left": null,
            "margin": null,
            "max_height": null,
            "max_width": null,
            "min_height": null,
            "min_width": null,
            "object_fit": null,
            "object_position": null,
            "order": null,
            "overflow": null,
            "overflow_x": null,
            "overflow_y": null,
            "padding": null,
            "right": null,
            "top": null,
            "visibility": null,
            "width": null
          }
        },
        "5a6c30837f7645afa6234033181a4716": {
          "model_module": "@jupyter-widgets/controls",
          "model_name": "DescriptionStyleModel",
          "model_module_version": "1.5.0",
          "state": {
            "_model_module": "@jupyter-widgets/controls",
            "_model_module_version": "1.5.0",
            "_model_name": "DescriptionStyleModel",
            "_view_count": null,
            "_view_module": "@jupyter-widgets/base",
            "_view_module_version": "1.2.0",
            "_view_name": "StyleView",
            "description_width": ""
          }
        },
        "417c63541583431fa22a6ddc691c12c5": {
          "model_module": "@jupyter-widgets/base",
          "model_name": "LayoutModel",
          "model_module_version": "1.2.0",
          "state": {
            "_model_module": "@jupyter-widgets/base",
            "_model_module_version": "1.2.0",
            "_model_name": "LayoutModel",
            "_view_count": null,
            "_view_module": "@jupyter-widgets/base",
            "_view_module_version": "1.2.0",
            "_view_name": "LayoutView",
            "align_content": null,
            "align_items": null,
            "align_self": null,
            "border": null,
            "bottom": null,
            "display": null,
            "flex": null,
            "flex_flow": null,
            "grid_area": null,
            "grid_auto_columns": null,
            "grid_auto_flow": null,
            "grid_auto_rows": null,
            "grid_column": null,
            "grid_gap": null,
            "grid_row": null,
            "grid_template_areas": null,
            "grid_template_columns": null,
            "grid_template_rows": null,
            "height": null,
            "justify_content": null,
            "justify_items": null,
            "left": null,
            "margin": null,
            "max_height": null,
            "max_width": null,
            "min_height": null,
            "min_width": null,
            "object_fit": null,
            "object_position": null,
            "order": null,
            "overflow": null,
            "overflow_x": null,
            "overflow_y": null,
            "padding": null,
            "right": null,
            "top": null,
            "visibility": null,
            "width": null
          }
        },
        "91daef26a815435d97431cfd5b8f839f": {
          "model_module": "@jupyter-widgets/controls",
          "model_name": "ProgressStyleModel",
          "model_module_version": "1.5.0",
          "state": {
            "_model_module": "@jupyter-widgets/controls",
            "_model_module_version": "1.5.0",
            "_model_name": "ProgressStyleModel",
            "_view_count": null,
            "_view_module": "@jupyter-widgets/base",
            "_view_module_version": "1.2.0",
            "_view_name": "StyleView",
            "bar_color": null,
            "description_width": ""
          }
        },
        "bfbe27dc7e254f9dbdab94491e8c29ce": {
          "model_module": "@jupyter-widgets/base",
          "model_name": "LayoutModel",
          "model_module_version": "1.2.0",
          "state": {
            "_model_module": "@jupyter-widgets/base",
            "_model_module_version": "1.2.0",
            "_model_name": "LayoutModel",
            "_view_count": null,
            "_view_module": "@jupyter-widgets/base",
            "_view_module_version": "1.2.0",
            "_view_name": "LayoutView",
            "align_content": null,
            "align_items": null,
            "align_self": null,
            "border": null,
            "bottom": null,
            "display": null,
            "flex": null,
            "flex_flow": null,
            "grid_area": null,
            "grid_auto_columns": null,
            "grid_auto_flow": null,
            "grid_auto_rows": null,
            "grid_column": null,
            "grid_gap": null,
            "grid_row": null,
            "grid_template_areas": null,
            "grid_template_columns": null,
            "grid_template_rows": null,
            "height": null,
            "justify_content": null,
            "justify_items": null,
            "left": null,
            "margin": null,
            "max_height": null,
            "max_width": null,
            "min_height": null,
            "min_width": null,
            "object_fit": null,
            "object_position": null,
            "order": null,
            "overflow": null,
            "overflow_x": null,
            "overflow_y": null,
            "padding": null,
            "right": null,
            "top": null,
            "visibility": null,
            "width": null
          }
        },
        "81ba6786cb3f4bdd9349ece7b5b3b09c": {
          "model_module": "@jupyter-widgets/controls",
          "model_name": "DescriptionStyleModel",
          "model_module_version": "1.5.0",
          "state": {
            "_model_module": "@jupyter-widgets/controls",
            "_model_module_version": "1.5.0",
            "_model_name": "DescriptionStyleModel",
            "_view_count": null,
            "_view_module": "@jupyter-widgets/base",
            "_view_module_version": "1.2.0",
            "_view_name": "StyleView",
            "description_width": ""
          }
        }
      }
    }
  },
  "nbformat": 4,
  "nbformat_minor": 0
}