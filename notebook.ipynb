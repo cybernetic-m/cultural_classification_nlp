{
  "cells": [
    {
      "cell_type": "markdown",
      "metadata": {
        "id": "uBexpRUW6E0B"
      },
      "source": [
        "# IMPORT Section"
      ]
    },
    {
      "cell_type": "code",
      "execution_count": 3,
      "metadata": {
        "colab": {
          "base_uri": "https://localhost:8080/"
        },
        "id": "-Dr6wvYA6E0C",
        "outputId": "f99e013a-085c-4851-b5c8-0b76f91b18e2"
      },
      "outputs": [
        {
          "output_type": "stream",
          "name": "stdout",
          "text": [
            "You are running on Colab!\n"
          ]
        }
      ],
      "source": [
        "try:\n",
        "    import google.colab\n",
        "    from cultural_classification_nlp.src.utils import dataset_parser\n",
        "    print(\"You are running on Colab!\")\n",
        "    colab = True\n",
        "\n",
        "except:\n",
        "    print(\"You are running locally!\")\n",
        "    colab = False\n",
        "\n",
        "import os\n"
      ]
    },
    {
      "cell_type": "markdown",
      "metadata": {
        "id": "CPPxDCGe6E0E"
      },
      "source": [
        "# Clone of the repository\n",
        "Cloning the repository if you are on Colab"
      ]
    },
    {
      "cell_type": "code",
      "execution_count": 2,
      "metadata": {
        "colab": {
          "base_uri": "https://localhost:8080/"
        },
        "id": "nKV1hNOV6E0E",
        "outputId": "00460151-f167-4663-b325-54b71b3a0184"
      },
      "outputs": [
        {
          "output_type": "stream",
          "name": "stdout",
          "text": [
            "Cloning into 'cultural_classification_nlp'...\n",
            "remote: Enumerating objects: 44, done.\u001b[K\n",
            "remote: Counting objects: 100% (44/44), done.\u001b[K\n",
            "remote: Compressing objects: 100% (31/31), done.\u001b[K\n",
            "remote: Total 44 (delta 16), reused 33 (delta 10), pack-reused 0 (from 0)\u001b[K\n",
            "Receiving objects: 100% (44/44), 211.57 KiB | 2.09 MiB/s, done.\n",
            "Resolving deltas: 100% (16/16), done.\n"
          ]
        }
      ],
      "source": [
        "if colab:\n",
        "    !git clone \"https://github.com/cybernetic-m/cultural_classification_nlp.git\""
      ]
    },
    {
      "cell_type": "markdown",
      "source": [
        "# Dataset"
      ],
      "metadata": {
        "id": "2kFypUA86P_9"
      }
    },
    {
      "cell_type": "code",
      "source": [
        "DATASET_PATH = \"cultural_classification_nlp/train_set.tsv\"\n",
        "\n",
        "df = dataset_parser(DATASET_PATH)"
      ],
      "metadata": {
        "id": "5WLkcAln7IPl",
        "colab": {
          "base_uri": "https://localhost:8080/"
        },
        "outputId": "d353bc05-3b40-409c-b572-57d788a88634"
      },
      "execution_count": 4,
      "outputs": [
        {
          "output_type": "stream",
          "name": "stdout",
          "text": [
            "The dataset is:\n",
            "\n",
            "                                    item                                 name  \\\n",
            "0    http://www.wikidata.org/entity/Q306                     Sebastián Piñera   \n",
            "1  http://www.wikidata.org/entity/Q12735                   John Amos Comenius   \n",
            "2   http://www.wikidata.org/entity/Q1752                             Macrinus   \n",
            "3   http://www.wikidata.org/entity/Q1639                         Lamine Diack   \n",
            "4   http://www.wikidata.org/entity/Q9588                        Richard Nixon   \n",
            "5   http://www.wikidata.org/entity/Q1625                      Sigfrid Edström   \n",
            "6   http://www.wikidata.org/entity/Q1628  David Cecil, 6th Marquess of Exeter   \n",
            "7  http://www.wikidata.org/entity/Q12706                          Maxim Gorky   \n",
            "8    http://www.wikidata.org/entity/Q207                       George W. Bush   \n",
            "9  http://www.wikidata.org/entity/Q12702                         Robert Cecil   \n",
            "\n",
            "                                         description    type  category  \\\n",
            "0    Chilean entrepreneur and politician (1949–2024)  entity  politics   \n",
            "1  Czech teacher, educator, philosopher and write...  entity  politics   \n",
            "2                      Roman emperor from 217 to 218  entity  politics   \n",
            "3              Senegalese sports manager (1933–2021)  entity  politics   \n",
            "4   President of the United States from 1969 to 1974  entity  politics   \n",
            "5  Swedish industrialist and International Olympi...  entity  politics   \n",
            "6  English athlete, sports official, and Conserva...  entity  politics   \n",
            "7                         Russian writer (1868–1936)  entity  politics   \n",
            "8   President of the United States from 2001 to 2009  entity  politics   \n",
            "9  lawyer, politician and diplomat in the United ...  entity  politics   \n",
            "\n",
            "  subcategory                    label  \n",
            "0  politician       cultural exclusive  \n",
            "1  politician  cultural representative  \n",
            "2  politician  cultural representative  \n",
            "3  politician  cultural representative  \n",
            "4  politician  cultural representative  \n",
            "5  politician  cultural representative  \n",
            "6  politician       cultural exclusive  \n",
            "7  politician  cultural representative  \n",
            "8  politician  cultural representative  \n",
            "9  politician       cultural exclusive  \n"
          ]
        }
      ]
    }
  ],
  "metadata": {
    "kernelspec": {
      "display_name": ".venv",
      "language": "python",
      "name": "python3"
    },
    "language_info": {
      "codemirror_mode": {
        "name": "ipython",
        "version": 3
      },
      "file_extension": ".py",
      "mimetype": "text/x-python",
      "name": "python",
      "nbconvert_exporter": "python",
      "pygments_lexer": "ipython3",
      "version": "3.12.7"
    },
    "colab": {
      "provenance": []
    }
  },
  "nbformat": 4,
  "nbformat_minor": 0
}